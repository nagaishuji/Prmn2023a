{
  "nbformat": 4,
  "nbformat_minor": 0,
  "metadata": {
    "colab": {
      "provenance": [],
      "toc_visible": true,
      "include_colab_link": true
    },
    "kernelspec": {
      "name": "python3",
      "display_name": "Python 3"
    },
    "language_info": {
      "name": "python"
    }
  },
  "cells": [
    {
      "cell_type": "markdown",
      "metadata": {
        "id": "view-in-github",
        "colab_type": "text"
      },
      "source": [
        "<a href=\"https://colab.research.google.com/github/nagaishuji/Prmn2023a/blob/main/Python/Python_Basic/question/PythonBasic_2_Question.ipynb\" target=\"_parent\"><img src=\"https://colab.research.google.com/assets/colab-badge.svg\" alt=\"Open In Colab\"/></a>"
      ]
    },
    {
      "cell_type": "markdown",
      "source": [
        "# 第2章 課題"
      ],
      "metadata": {
        "id": "C44SsXDACtHu"
      }
    },
    {
      "cell_type": "markdown",
      "source": [
        "## 課題1"
      ],
      "metadata": {
        "id": "OnkezWHRCwr9"
      }
    },
    {
      "cell_type": "markdown",
      "source": [
        "for文を使って、以下のように出力してください"
      ],
      "metadata": {
        "id": "q32rK-cECzCl"
      }
    },
    {
      "cell_type": "markdown",
      "source": [
        "![oSFeQoX.png](https://i.imgur.com/oSFeQoX.png)"
      ],
      "metadata": {
        "id": "FxMcxznVB6cI"
      }
    },
    {
      "cell_type": "code",
      "source": [
        "# 入力用\n",
        "for i in range(1,5):\n",
        "  s=(' '*(5-i)+'*'*(2*i-1))\n",
        "  print(s)"
      ],
      "metadata": {
        "id": "iBFSsrdRC5Zt",
        "colab": {
          "base_uri": "https://localhost:8080/"
        },
        "outputId": "709ddd3c-0d07-4a47-f57b-93408dc0a1f8"
      },
      "execution_count": 14,
      "outputs": [
        {
          "output_type": "stream",
          "name": "stdout",
          "text": [
            "    *\n",
            "   ***\n",
            "  *****\n",
            " *******\n"
          ]
        }
      ]
    },
    {
      "cell_type": "markdown",
      "source": [
        "## 課題2"
      ],
      "metadata": {
        "id": "gIn-UqGTCagu"
      }
    },
    {
      "cell_type": "markdown",
      "source": [
        "課題1の場合を`n=4`として、nを自分で設定して出力できるようにしてください"
      ],
      "metadata": {
        "id": "ltdiEdqYDFy8"
      }
    },
    {
      "cell_type": "markdown",
      "source": [
        "＜例＞ n=5の場合  \n",
        "![o5NjugQ.png](https://imgur.com/o5NjugQ.png)"
      ],
      "metadata": {
        "id": "hw0FM8BRDHz1"
      }
    },
    {
      "cell_type": "code",
      "source": [
        "# 入力用\n",
        "n=int(input('nを入力'))\n",
        "for i in range(1,n+1):\n",
        "  s=(' '*(n-i)+'*'*(2*i-1))\n",
        "  print(s)"
      ],
      "metadata": {
        "id": "upd76Tv-FrIB",
        "colab": {
          "base_uri": "https://localhost:8080/"
        },
        "outputId": "5ac02b97-4888-4dff-fea8-2d8309002e6a"
      },
      "execution_count": 15,
      "outputs": [
        {
          "output_type": "stream",
          "name": "stdout",
          "text": [
            "nを入力5\n",
            "    *\n",
            "   ***\n",
            "  *****\n",
            " *******\n",
            "*********\n"
          ]
        }
      ]
    },
    {
      "cell_type": "markdown",
      "source": [
        "## 課題3"
      ],
      "metadata": {
        "id": "tLMJvwBDE7wT"
      }
    },
    {
      "cell_type": "markdown",
      "source": [
        "for文を使って、以下のように出力してください"
      ],
      "metadata": {
        "id": "vZNvWsG7E99q"
      }
    },
    {
      "cell_type": "markdown",
      "source": [
        "![oSirXec.png](https://imgur.com/oSirXec.png)"
      ],
      "metadata": {
        "id": "ijOV-ilXGDNR"
      }
    },
    {
      "cell_type": "code",
      "source": [
        "# 入力用\n",
        "for i in range(1,4):\n",
        "  s=(' '*(4-i)+'*'*(2*i-1))\n",
        "  print(s)\n",
        "for i in range(4,0,-1):\n",
        "  t=(' '*(4-i)+'*'*(2*i-1))\n",
        "  print(t)"
      ],
      "metadata": {
        "id": "Q5Ob9uZpGIE3",
        "colab": {
          "base_uri": "https://localhost:8080/"
        },
        "outputId": "80a767bd-73cf-44cb-f663-759e8b28a6d9"
      },
      "execution_count": 16,
      "outputs": [
        {
          "output_type": "stream",
          "name": "stdout",
          "text": [
            "   *\n",
            "  ***\n",
            " *****\n",
            "*******\n",
            " *****\n",
            "  ***\n",
            "   *\n"
          ]
        }
      ]
    },
    {
      "cell_type": "markdown",
      "source": [
        "## 課題4"
      ],
      "metadata": {
        "id": "Oh7whOPkGQ3I"
      }
    },
    {
      "cell_type": "markdown",
      "source": [
        "課題3の場合を`n=4`として、nを自分で設定して出力できるようにしてください"
      ],
      "metadata": {
        "id": "PnvT8MQbGS03"
      }
    },
    {
      "cell_type": "markdown",
      "source": [
        "＜例＞ n=5の場合  \n",
        "\n",
        "![my4J17V.png](https://i.imgur.com/my4J17V.png)"
      ],
      "metadata": {
        "id": "ZujkAbVMGzhn"
      }
    },
    {
      "cell_type": "code",
      "source": [
        "# 入力用\n",
        "n=int(input('nを入力'))\n",
        "for i in range(1,n+1):\n",
        "  s=(' '*(n-i)+'*'*(2*i-1))\n",
        "  print(s)\n",
        "for i in range(n-1,0,-1):\n",
        "  t=(' '*(n-i)+'*'*(2*i-1))\n",
        "  print(t)"
      ],
      "metadata": {
        "id": "hCFNQ7mWG99u",
        "colab": {
          "base_uri": "https://localhost:8080/"
        },
        "outputId": "8831c1c4-bc1b-4eff-9fa8-9490436bf550"
      },
      "execution_count": 17,
      "outputs": [
        {
          "output_type": "stream",
          "name": "stdout",
          "text": [
            "nを入力5\n",
            "    *\n",
            "   ***\n",
            "  *****\n",
            " *******\n",
            "*********\n",
            " *******\n",
            "  *****\n",
            "   ***\n",
            "    *\n"
          ]
        }
      ]
    },
    {
      "cell_type": "markdown",
      "source": [
        "## 課題5"
      ],
      "metadata": {
        "id": "R2MvOK4wHJlK"
      }
    },
    {
      "cell_type": "markdown",
      "source": [
        "for文を使って、以下のように出力してください"
      ],
      "metadata": {
        "id": "ddMIUoaKHcwd"
      }
    },
    {
      "cell_type": "markdown",
      "source": [
        "![vDUi5eM.png](https://imgur.com/vDUi5eM.png)"
      ],
      "metadata": {
        "id": "CD1cVUlWHLVO"
      }
    },
    {
      "cell_type": "code",
      "source": [
        "# 入力用\n",
        "n=4\n",
        "for i in range(1,n+1):\n",
        "  if i==n:\n",
        "    print(' '*(n-i)+'*'*(2*i-1)+' '*(n-i-1)+' '*(n-i)+'*'*(2*i-2))\n",
        "  else:\n",
        "    print(' '*(n-i)+'*'*(2*i-1)+' '*(n-i-1)+' '*(n-i)+'*'*(2*i-1))\n",
        "for i in range(n-1,0,-1):\n",
        "  print(' '*(n-i)+'*'*(2*i-1)+' '*(n-i-1)+' '*(n-i)+'*'*(2*i-1))"
      ],
      "metadata": {
        "id": "1pDkfJpUHd93",
        "colab": {
          "base_uri": "https://localhost:8080/"
        },
        "outputId": "82aed26e-62db-4bb2-d861-705a457bda94"
      },
      "execution_count": 6,
      "outputs": [
        {
          "output_type": "stream",
          "name": "stdout",
          "text": [
            "   *     *\n",
            "  ***   ***\n",
            " ***** *****\n",
            "*************\n",
            " ***** *****\n",
            "  ***   ***\n",
            "   *     *\n"
          ]
        }
      ]
    },
    {
      "cell_type": "markdown",
      "source": [
        "## 課題6"
      ],
      "metadata": {
        "id": "oubbafOBHerl"
      }
    },
    {
      "cell_type": "markdown",
      "source": [
        "課題5の場合を`n=4`として、nを自分で設定して出力できるようにしてください"
      ],
      "metadata": {
        "id": "7SzgFdC-HzG9"
      }
    },
    {
      "cell_type": "markdown",
      "source": [
        "＜例＞ n=5の場合  \n",
        "\n",
        "![udkVlYG.png](https://imgur.com/udkVlYG.png)"
      ],
      "metadata": {
        "id": "LY8g9PVPH2OW"
      }
    },
    {
      "cell_type": "code",
      "source": [
        "# 入力用\n",
        "n=int(input('nを入力'))\n",
        "for i in range(1,n+1):\n",
        "  if i==n:\n",
        "    print(' '*(n-i)+'*'*(2*i-1)+' '*(n-i-1)+' '*(n-i)+'*'*(2*i-2))\n",
        "  else:\n",
        "    print(' '*(n-i)+'*'*(2*i-1)+' '*(n-i-1)+' '*(n-i)+'*'*(2*i-1))\n",
        "for i in range(n-1,0,-1):\n",
        "  print(' '*(n-i)+'*'*(2*i-1)+' '*(n-i-1)+' '*(n-i)+'*'*(2*i-1))"
      ],
      "metadata": {
        "id": "XZOK5ulbH-tu",
        "colab": {
          "base_uri": "https://localhost:8080/"
        },
        "outputId": "9045fa37-4346-4080-ceb7-0d9ba551b2d3"
      },
      "execution_count": 5,
      "outputs": [
        {
          "output_type": "stream",
          "name": "stdout",
          "text": [
            "nを入力5\n",
            "    *       *\n",
            "   ***     ***\n",
            "  *****   *****\n",
            " ******* *******\n",
            "*****************\n",
            " ******* *******\n",
            "  *****   *****\n",
            "   ***     ***\n",
            "    *       *\n"
          ]
        }
      ]
    },
    {
      "cell_type": "markdown",
      "source": [
        "## 課題7"
      ],
      "metadata": {
        "id": "ouqTUmPQIKGF"
      }
    },
    {
      "cell_type": "markdown",
      "source": [
        "for文を使って、以下のように出力してください"
      ],
      "metadata": {
        "id": "WHSxdOHuIMRM"
      }
    },
    {
      "cell_type": "markdown",
      "source": [
        "![IuP0M16.png](https://imgur.com/IuP0M16.png)"
      ],
      "metadata": {
        "id": "-G--WFTkIM8s"
      }
    },
    {
      "cell_type": "code",
      "source": [
        "# 入力用\n",
        "n=4\n",
        "for y in range(2):\n",
        "  if y==1:\n",
        "    for i in range(1,n+1):\n",
        "      if i==4:\n",
        "        print(' '*(n-i)+'*'*(2*i-1)+' '*(n-i-1)+' '*(n-i)+'*'*(2*i-2))\n",
        "      else:\n",
        "        print(' '*(n-i)+'*'*(2*i-1)+' '*(n-i-1)+' '*(n-i)+'*'*(2*i-1))\n",
        "    for i in range(n-1,0,-1):\n",
        "      if i==1:\n",
        "        pass\n",
        "      else:\n",
        "        print(' '*(n-i)+'*'*(2*i-1)+' '*(n-i-1)+' '*(n-i)+'*'*(2*i-1))\n",
        "    else:\n",
        "      for i in range(1,n+1):\n",
        "        if i==4:\n",
        "          print(' '*(n-i)+'*'*(2*i-1)+' '*(n-i-1)+' '*(n-i)+'*'*(2*i-2))\n",
        "        else:\n",
        "          print(' '*(n-i)+'*'*(2*i-1)+' '*(n-i-1)+' '*(n-i)+'*'*(2*i-1))\n",
        "      for i in range(n-1,0,-1):\n",
        "        print(' '*(n-i)+'*'*(2*i-1)+' '*(n-i-1)+' '*(n-i)+'*'*(2*i-1))"
      ],
      "metadata": {
        "id": "BVXjDteuIijL",
        "colab": {
          "base_uri": "https://localhost:8080/"
        },
        "outputId": "1e6454d1-adc1-4942-e70a-200995c0d605"
      },
      "execution_count": 8,
      "outputs": [
        {
          "output_type": "stream",
          "name": "stdout",
          "text": [
            "   *     *\n",
            "  ***   ***\n",
            " ***** *****\n",
            "*************\n",
            " ***** *****\n",
            "  ***   ***\n",
            "   *     *\n",
            "  ***   ***\n",
            " ***** *****\n",
            "*************\n",
            " ***** *****\n",
            "  ***   ***\n",
            "   *     *\n"
          ]
        }
      ]
    },
    {
      "cell_type": "markdown",
      "source": [
        "## 課題8"
      ],
      "metadata": {
        "id": "31u0ExX2IjWj"
      }
    },
    {
      "cell_type": "markdown",
      "source": [
        "課題7の場合を`n=4`として、nを自分で設定して出力できるようにしてください"
      ],
      "metadata": {
        "id": "zeOvmKarInpz"
      }
    },
    {
      "cell_type": "markdown",
      "source": [
        "＜例＞ n=5の場合  \n",
        "\n",
        "![AlTnu1k.png](https://imgur.com/AlTnu1k.png)"
      ],
      "metadata": {
        "id": "2uLR5sbKIov2"
      }
    },
    {
      "cell_type": "code",
      "source": [
        "# 入力用\n",
        "n=int(input('nを入力'))\n",
        "for y in range(2):\n",
        "  if y==1:\n",
        "    for i in range(1,n+1):\n",
        "      if i==n:\n",
        "        print(' '*(n-i)+'*'*(2*i-1)+' '*(n-i-1)+' '*(n-i)+'*'*(2*i-2))\n",
        "      else:\n",
        "        print(' '*(n-i)+'*'*(2*i-1)+' '*(n-i-1)+' '*(n-i)+'*'*(2*i-1))\n",
        "    for i in range(n-1,0,-1):\n",
        "      if i==1:\n",
        "        pass\n",
        "      else:\n",
        "        print(' '*(n-i)+'*'*(2*i-1)+' '*(n-i-1)+' '*(n-i)+'*'*(2*i-1))\n",
        "    else:\n",
        "      for i in range(1,n+1):\n",
        "        if i==n:\n",
        "          print(' '*(n-i)+'*'*(2*i-1)+' '*(n-i-1)+' '*(n-i)+'*'*(2*i-2))\n",
        "        else:\n",
        "          print(' '*(n-i)+'*'*(2*i-1)+' '*(n-i-1)+' '*(n-i)+'*'*(2*i-1))\n",
        "      for i in range(n-1,0,-1):\n",
        "        print(' '*(n-i)+'*'*(2*i-1)+' '*(n-i-1)+' '*(n-i)+'*'*(2*i-1))"
      ],
      "metadata": {
        "id": "TXJaIVbYI_Cd",
        "colab": {
          "base_uri": "https://localhost:8080/"
        },
        "outputId": "a5637fe9-1768-4585-b204-4d9f7bca9e82"
      },
      "execution_count": 9,
      "outputs": [
        {
          "output_type": "stream",
          "name": "stdout",
          "text": [
            "nを入力5\n",
            "    *       *\n",
            "   ***     ***\n",
            "  *****   *****\n",
            " ******* *******\n",
            "*****************\n",
            " ******* *******\n",
            "  *****   *****\n",
            "   ***     ***\n",
            "    *       *\n",
            "   ***     ***\n",
            "  *****   *****\n",
            " ******* *******\n",
            "*****************\n",
            " ******* *******\n",
            "  *****   *****\n",
            "   ***     ***\n",
            "    *       *\n"
          ]
        }
      ]
    }
  ]
}