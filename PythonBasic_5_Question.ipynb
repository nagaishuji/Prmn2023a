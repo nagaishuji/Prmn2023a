{
  "nbformat": 4,
  "nbformat_minor": 0,
  "metadata": {
    "colab": {
      "provenance": [],
      "include_colab_link": true
    },
    "kernelspec": {
      "name": "python3",
      "display_name": "Python 3"
    },
    "language_info": {
      "name": "python"
    }
  },
  "cells": [
    {
      "cell_type": "markdown",
      "metadata": {
        "id": "view-in-github",
        "colab_type": "text"
      },
      "source": [
        "<a href=\"https://colab.research.google.com/github/nagaishuji/Prmn2023a/blob/main/PythonBasic_5_Question.ipynb\" target=\"_parent\"><img src=\"https://colab.research.google.com/assets/colab-badge.svg\" alt=\"Open In Colab\"/></a>"
      ]
    },
    {
      "cell_type": "markdown",
      "source": [
        "<a href=\"https://colab.research.google.com/github/kiryu-3/Prmn2023/blob/main/Python/Python_Basic/question/PythonBasic_5_Question.ipynb\" target=\"_parent\"><img src=\"https://colab.research.google.com/assets/colab-badge.svg\" alt=\"Open In Colab\"/></a>"
      ],
      "metadata": {
        "id": "TA5kKi-LY1xg"
      }
    },
    {
      "cell_type": "markdown",
      "source": [
        "# 第5章 課題"
      ],
      "metadata": {
        "id": "r-kcfL2yEU8b"
      }
    },
    {
      "cell_type": "markdown",
      "source": [
        "## 課題1"
      ],
      "metadata": {
        "id": "RWo2DmBs_2c4"
      }
    },
    {
      "cell_type": "markdown",
      "source": [
        "1桁の自然数を乱数を使って5つ格納した2つのリストを作ってください。  \n",
        "この時、一つのリスト内で5つの値が重複しないようにしてください\n",
        "\n",
        "その後、そのリストから重複する要素を削除した新しいリストと、   \n",
        "共通の要素を持つ新しいリストを出力してください"
      ],
      "metadata": {
        "id": "QRNvqmTgE8Ww"
      }
    },
    {
      "cell_type": "markdown",
      "source": [
        "＜実行結果例＞\n",
        "``` py  \n",
        "1つ目のリスト：[1, 2, 3, 4, 5]  \n",
        "2つ目のリスト：[1, 3, 5, 7, 9]  \n",
        "重複削除リスト：[1, 2, 3, 4, 5, 7, 9] \n",
        "共通要素リスト：[1, 3, 5]\n",
        "```"
      ],
      "metadata": {
        "id": "Goi4CqGxFOpn"
      }
    },
    {
      "cell_type": "markdown",
      "source": [
        "＜ヒント＞ set関数を用いても用いなくても答えは出せます。"
      ],
      "metadata": {
        "id": "iEOFeFjqkkyS"
      }
    },
    {
      "cell_type": "code",
      "source": [
        "# 入力用\n",
        "import random\n",
        "list1 = random.sample(range(1, 10), 5)\n",
        "list2 = random.sample(range(1, 10), 5)\n",
        "\n",
        "print(sorted(list1))\n",
        "print(sorted(list2))\n",
        "print(list(set(list1) | set(list2)))\n",
        "print(list(set(list1) & set(list2)))"
      ],
      "metadata": {
        "id": "pQdhCOALMGWj",
        "colab": {
          "base_uri": "https://localhost:8080/"
        },
        "outputId": "3e734445-adc8-46e1-c013-9579f194ca94"
      },
      "execution_count": 1,
      "outputs": [
        {
          "output_type": "stream",
          "name": "stdout",
          "text": [
            "[3, 4, 5, 8, 9]\n",
            "[1, 3, 6, 7, 9]\n",
            "[1, 3, 4, 5, 6, 7, 8, 9]\n",
            "[9, 3]\n"
          ]
        }
      ]
    },
    {
      "cell_type": "markdown",
      "source": [
        "## 課題2"
      ],
      "metadata": {
        "id": "-qZw_n3X8xrW"
      }
    },
    {
      "cell_type": "markdown",
      "source": [
        "共通のキーを持つ辞書を要素とするリストから、特定のキーの値のリストを取得してみます。"
      ],
      "metadata": {
        "id": "vxwATeobQf_U"
      }
    },
    {
      "cell_type": "markdown",
      "source": [
        "以下のリストから、都道府県コード・都道府県・県庁所在地それぞれのリストを作成してください\n",
        "\n",
        "キーが存在しないところがある点に注意してください"
      ],
      "metadata": {
        "id": "tGPa1uU6Qs2c"
      }
    },
    {
      "cell_type": "code",
      "source": [
        "todohuken_data = [{\"コード\": 24, \"都道府県\": \"三重\", \"県庁所在地\": \"津\"},\n",
        "                  {\"コード\": 25, \"都道府県\": \"滋賀\", \"県庁所在地\": \"大津\"},\n",
        "                  {\"コード\": 31, \"都道府県\": \"鳥取\"},\n",
        "                  {\"コード\": 32, \"都道府県\": \"島根\", \"県庁所在地\": \"松江\"},\n",
        "                  {\"コード\": 37, \"都道府県\": \"香川\", \"県庁所在地\": \"高松\"},\n",
        "                  {\"コード\": 38, \"都道府県\": \"愛媛\", \"県庁所在地\": \"松山\"},]"
      ],
      "metadata": {
        "id": "8ZdyRWbERGAY"
      },
      "execution_count": 15,
      "outputs": []
    },
    {
      "cell_type": "markdown",
      "source": [
        "＜出力結果例＞  \n",
        "``` py\n",
        "[24, 25, 31, 32, 37, 38]  \n",
        "['三重', '滋賀', '鳥取', '島根', '香川', '愛媛']\n",
        "['津', '大津', None, '松江', '高松', '松山']\n",
        "```"
      ],
      "metadata": {
        "id": "dQ2n3OMSUXh2"
      }
    },
    {
      "cell_type": "code",
      "source": [
        "# 入力用\n",
        "data_code=[t.get('コード') for t in todohuken_data]\n",
        "data_ken=[t.get('都道府県') for t in todohuken_data]\n",
        "data_syozai=[t.get('県庁所在地') for t in todohuken_data]\n",
        "\n",
        "print(data_code)\n",
        "print(data_ken)\n",
        "print(data_syozai)"
      ],
      "metadata": {
        "id": "duwCERgQUify",
        "colab": {
          "base_uri": "https://localhost:8080/"
        },
        "outputId": "b5a65610-f546-4562-b8af-002dbf4bcc50"
      },
      "execution_count": 16,
      "outputs": [
        {
          "output_type": "stream",
          "name": "stdout",
          "text": [
            "[24, 25, 31, 32, 37, 38]\n",
            "['三重', '滋賀', '鳥取', '島根', '香川', '愛媛']\n",
            "['津', '大津', None, '松江', '高松', '松山']\n"
          ]
        }
      ]
    },
    {
      "cell_type": "markdown",
      "source": [
        "## 課題3"
      ],
      "metadata": {
        "id": "1S8kadYgq_gV"
      }
    },
    {
      "cell_type": "markdown",
      "source": [
        "ある文字列が与えられた場合、文字列内の各文字の出現回数をディクショナリの形で返してください\n",
        "\n",
        "大文字と小文字は区別してください  \n",
        "また、出力時はアルファベット順にソートした状態にしてください"
      ],
      "metadata": {
        "id": "OdSKG7k9rA7V"
      }
    },
    {
      "cell_type": "markdown",
      "source": [
        "＜実行結果例＞　「Hello, World!」の各文字のカウント\n",
        "``` py\n",
        "{'H': 1, 'W': 1, 'd': 1, 'e': 1, 'l': 3, 'o': 2, 'r': 1}\n",
        "```"
      ],
      "metadata": {
        "id": "p0suMufQuEzI"
      }
    },
    {
      "cell_type": "code",
      "source": [
        "# 入力用\n",
        "\n",
        "string = \"Hello, World!\"\n",
        "\n",
        "# アルファベット以外の文字を削除 最初に実行してください\n",
        "string = ''.join(c for c in string if c.isalpha())\n",
        "\n",
        "dict1={}\n",
        "print(string)\n",
        "for c in set(string):\n",
        "  num=string.count(c)\n",
        "  dict1[c]=num\n",
        "\n",
        "dict2=sorted(dict1.items())\n",
        "dict2=dict((x, y) for x, y in dict2)\n",
        "print(dict2)\n"
      ],
      "metadata": {
        "id": "bHv50oDhrdzN",
        "colab": {
          "base_uri": "https://localhost:8080/"
        },
        "outputId": "df51ce96-bc5f-4751-da16-4874073ba44b"
      },
      "execution_count": 2,
      "outputs": [
        {
          "output_type": "stream",
          "name": "stdout",
          "text": [
            "HelloWorld\n",
            "{'H': 1, 'W': 1, 'd': 1, 'e': 1, 'l': 3, 'o': 2, 'r': 1}\n"
          ]
        }
      ]
    },
    {
      "cell_type": "markdown",
      "source": [
        "## 課題4"
      ],
      "metadata": {
        "id": "W573lh39MOlj"
      }
    },
    {
      "cell_type": "markdown",
      "source": [
        "ある大学の名前と年齢が、次のような形式で格納されたディクショナリ `university_dic` があります。"
      ],
      "metadata": {
        "id": "sSIMKY-aNcIx"
      }
    },
    {
      "cell_type": "code",
      "source": [
        "university_dic = {\n",
        "    \"Chitose\" : 25,\n",
        "    \"Hokudai\" : 105,\n",
        "    \"Muroran\" : 74,\n",
        "    \"Hakodate\": 23,\n",
        "}"
      ],
      "metadata": {
        "id": "v-wGyWuKK3wl"
      },
      "execution_count": 32,
      "outputs": []
    },
    {
      "cell_type": "markdown",
      "source": [
        "このリストを、年齢順にソートして、新たなディクショナリとして出力してください"
      ],
      "metadata": {
        "id": "XIxDf9QgO1iH"
      }
    },
    {
      "cell_type": "markdown",
      "source": [
        "＜実行結果＞  \n",
        "``` py\n",
        "{'Hakodate': 23, 'Chitose': 25, 'Muroran': 74, 'Hokudai': 105}\n",
        "```"
      ],
      "metadata": {
        "id": "0Z2-_1dAQENU"
      }
    },
    {
      "cell_type": "code",
      "source": [
        "# 入力用\n",
        "dic={}\n",
        "x=sorted(university_dic.values())\n",
        "y=sorted(university_dic.keys())\n",
        "for i in range(len(x)):\n",
        "  for s in range(len(y)):\n",
        "    if(university_dic[y[s]]==x[i]):\n",
        "      dic[y[s]]=x[i]\n",
        "print(dic)"
      ],
      "metadata": {
        "id": "ficNVfkgR5Kv",
        "colab": {
          "base_uri": "https://localhost:8080/"
        },
        "outputId": "e7eafeca-403e-4e55-ade1-265945872430"
      },
      "execution_count": 36,
      "outputs": [
        {
          "output_type": "stream",
          "name": "stdout",
          "text": [
            "{'Hakodate': 23, 'Chitose': 25, 'Muroran': 74, 'Hokudai': 105}\n"
          ]
        }
      ]
    },
    {
      "cell_type": "markdown",
      "source": [
        "## 課題5"
      ],
      "metadata": {
        "id": "QijnXk7UWAVC"
      }
    },
    {
      "cell_type": "markdown",
      "source": [
        "**FizzBuzz（フィズ・バズ）問題**という問題について解いていきます。\n",
        "\n",
        "もともとは、英語圏で長距離ドライブ中や飲み会の時に行われる言葉遊びです。"
      ],
      "metadata": {
        "id": "m7F47Q1mWCA6"
      }
    },
    {
      "cell_type": "markdown",
      "source": [
        "以下のような問題になります。\n",
        "\n",
        "1～Nまでの整数を順に出力しなさい。ただし、例外として以下のルールを守ること。\n",
        "\n",
        "* 3で割り切れる数字の場合はFizzを出力\n",
        "* 5で割り切れる数字の場合はBuzzを出力\n",
        "* 7で割り切れる数字の場合はJazzを出力\n",
        "* 複数条件が当てはまる場合は組み合わせて出力（ \"FizzBuzz\", \"FizzJazz\", \"BuzzJazz\" など）"
      ],
      "metadata": {
        "id": "fArw0VcNWgwZ"
      }
    },
    {
      "cell_type": "markdown",
      "source": [
        "ここでは N=100として、まずは一つのリストに  \n",
        "\"Fizz\" か \"Buzz\" か \"Jazz\" か \"組み合わさったもの\" か \"others\" を格納してください。\n",
        "\n",
        "その後、それぞれの要素の数をカウントし、ディクショナリの形で出力してください。"
      ],
      "metadata": {
        "id": "SYqkpYstWm7Z"
      }
    },
    {
      "cell_type": "markdown",
      "source": [
        "＜実行結果例＞  \n",
        "``` py\n",
        "{'Fizz': 23, 'Buzz': 12, 'Jazz': 8, 'FizzBuzz': 6, 'FizzJazz': 4, 'BuzzJazz': 2, 'others': 45}\n",
        "```"
      ],
      "metadata": {
        "id": "OqLuJTcWYzFt"
      }
    },
    {
      "cell_type": "code",
      "source": [
        "# 入力用\n",
        "N = 100\n",
        "list1 = []\n",
        "for i in range(1,N+1):\n",
        "  if i%105==0:\n",
        "    list1.append('FizzBuzzJazz')\n",
        "  elif i%15==0:\n",
        "    list1.append('FizzBuzz')\n",
        "  elif i%21==0:\n",
        "    list1.append('FizzJazz')\n",
        "  elif i%35==0:\n",
        "    list1.append('BuzzJazz')\n",
        "  elif i%3==0:\n",
        "    list1.append('Fizz')\n",
        "  elif i%5==0:\n",
        "    list1.append('Buzz')\n",
        "  elif i%7==0:\n",
        "    list1.append('Jazz')\n",
        "  else:\n",
        "    list1.append('others')\n",
        "\n",
        "dict3 = {}\n",
        "list2 = ['Fizz','Buzz','Jazz','FizzBuzz','FizzJazz','BuzzJazz','FizzBuzzJazz','others']\n",
        "for s in list2:\n",
        "  num = list1.count(s)\n",
        "  dict3[s] = num\n",
        "print(dict3)"
      ],
      "metadata": {
        "id": "BLYbI0E48o2G",
        "colab": {
          "base_uri": "https://localhost:8080/"
        },
        "outputId": "8a0bd817-6758-492b-86ae-8e860cccfe07"
      },
      "execution_count": 25,
      "outputs": [
        {
          "output_type": "stream",
          "name": "stdout",
          "text": [
            "{'Fizz': 23, 'Buzz': 12, 'Jazz': 8, 'FizzBuzz': 6, 'FizzJazz': 4, 'BuzzJazz': 2, 'FizzBuzzJazz': 0, 'others': 45}\n"
          ]
        }
      ]
    }
  ]
}